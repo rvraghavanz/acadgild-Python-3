{
 "cells": [
  {
   "cell_type": "markdown",
   "metadata": {},
   "source": [
    "<B>1.1 Write a Python Program to implement your own myreduce() function which works exactly\n",
    "        like Python's built-in function reduce()</B>"
   ]
  },
  {
   "cell_type": "code",
   "execution_count": 1,
   "metadata": {},
   "outputs": [
    {
     "name": "stdout",
     "output_type": "stream",
     "text": [
      "Input list :  [1, 2, 3, 4, 5, 6]\n",
      "Output using reduce function :  21\n",
      "Output using myreduce function :  21\n"
     ]
    }
   ],
   "source": [
    "import functools as ft\n",
    "input_lst = [1,2,3,4,5,6]\n",
    "funsum = lambda a,b:a+b\n",
    "\n",
    "def myreduce(fun,input_lst):\n",
    "    i=0\n",
    "    sum=0\n",
    "    while i < len (input_lst):\n",
    "        sum=fun(sum,input_lst[i])\n",
    "        i=i+1\n",
    "    return sum\n",
    "\n",
    "#using reduce function\n",
    "output_red = ft.reduce(funsum, input_lst)\n",
    "\n",
    "print (\"Input list : \",input_lst)\n",
    "print(\"Output using reduce function : \",output_red)\n",
    "print(\"Output using myreduce function : \", myreduce(funsum,input_lst))\n"
   ]
  },
  {
   "cell_type": "markdown",
   "metadata": {},
   "source": [
    "<B>1.2 Write a Python Program to implement your own myfilter() function which works exactly like Python's built-in function filter</B>"
   ]
  },
  {
   "cell_type": "code",
   "execution_count": 2,
   "metadata": {},
   "outputs": [
    {
     "name": "stdout",
     "output_type": "stream",
     "text": [
      "Input list :  [1, 2, 3, 4, 5, 6]\n",
      "Output using filter function to identify the even numbers :  [2, 4, 6]\n",
      "Output using myfilter function :  [2, 4, 6]\n"
     ]
    }
   ],
   "source": [
    "input_lst = [1,2,3,4,5,6]\n",
    "\n",
    "funeven = lambda a:a%2==0\n",
    "\n",
    "def myfilter(fun,input_lst):\n",
    "    ret_out=[]\n",
    "    for item in input_lst:\n",
    "        if fun(item):\n",
    "            ret_out.append(item)\n",
    "    return ret_out\n",
    "\n",
    "#using filter function\n",
    "output_fil=[]\n",
    "for item in filter(funeven,input_lst):\n",
    "    output_fil.append(item)\n",
    "\n",
    "print (\"Input list : \",input_lst)\n",
    "print(\"Output using filter function to identify the even numbers : \",output_fil)\n",
    "print(\"Output using myfilter function : \", myfilter(funeven,input_lst))"
   ]
  },
  {
   "cell_type": "markdown",
   "metadata": {},
   "source": [
    "<B> 1.3 Write List comprehensions to produce the following Lists</B>"
   ]
  },
  {
   "cell_type": "markdown",
   "metadata": {},
   "source": [
    "Below will generate the ouput - ['A', 'C', 'A', 'D', 'G', 'I', 'L', 'D']\n",
    "    "
   ]
  },
  {
   "cell_type": "code",
   "execution_count": 3,
   "metadata": {},
   "outputs": [
    {
     "name": "stdout",
     "output_type": "stream",
     "text": [
      "['A', 'C', 'A', 'D', 'G', 'I', 'L', 'D']\n"
     ]
    }
   ],
   "source": [
    "print([i for i in 'ACADGILD'])"
   ]
  },
  {
   "cell_type": "code",
   "execution_count": 4,
   "metadata": {},
   "outputs": [
    {
     "name": "stdout",
     "output_type": "stream",
     "text": [
      "['A', 'C', 'A', 'D', 'G', 'I', 'L', 'D']\n"
     ]
    }
   ],
   "source": [
    "att_l=[]\n",
    "str='ACADGILD'\n",
    "for i in str:\n",
    "    att_l.append(i)\n",
    "print(att_l)"
   ]
  },
  {
   "cell_type": "markdown",
   "metadata": {},
   "source": [
    "Below will generate the output - ['x', 'xx', 'xxx', 'xxxx', 'y', 'yy', 'yyy', 'yyyy', 'z', 'zz', 'zzz', 'zzzz']"
   ]
  },
  {
   "cell_type": "code",
   "execution_count": 5,
   "metadata": {},
   "outputs": [
    {
     "name": "stdout",
     "output_type": "stream",
     "text": [
      "['x', 'xx', 'xxx', 'xxxx', 'y', 'yy', 'yyy', 'yyyy', 'z', 'zz', 'zzz', 'zzzz']\n"
     ]
    }
   ],
   "source": [
    "print([i*n for i in \"xyz\" for n in range(1,5)])"
   ]
  },
  {
   "cell_type": "code",
   "execution_count": 6,
   "metadata": {},
   "outputs": [
    {
     "name": "stdout",
     "output_type": "stream",
     "text": [
      "['x', 'xx', 'xxx', 'xxxx', 'y', 'yy', 'yyy', 'yyyy', 'z', 'zz', 'zzz', 'zzzz']\n"
     ]
    }
   ],
   "source": [
    "arr = []\n",
    "for i in \"xyz\":\n",
    "    for n in range(1,5):\n",
    "        arr.append(i*n)\n",
    "print(arr)"
   ]
  },
  {
   "cell_type": "markdown",
   "metadata": {},
   "source": [
    "Below will generate the output - ['x', 'xx', 'xxx', 'xxxx', 'y', 'yy', 'yyy', 'yyyy', 'z', 'zz', 'zzz', 'zzzz']"
   ]
  },
  {
   "cell_type": "code",
   "execution_count": 7,
   "metadata": {},
   "outputs": [
    {
     "name": "stdout",
     "output_type": "stream",
     "text": [
      "['x', 'y', 'z', 'xx', 'yy', 'zz', 'xxx', 'yyy', 'zzz', 'xxxx', 'yyyy', 'zzzz']\n"
     ]
    }
   ],
   "source": [
    "arr = []\n",
    "for n in range(1,5):\n",
    "    for i in \"xyz\":    \n",
    "        arr.append(i*n)\n",
    "print(arr)"
   ]
  },
  {
   "cell_type": "code",
   "execution_count": 8,
   "metadata": {},
   "outputs": [
    {
     "name": "stdout",
     "output_type": "stream",
     "text": [
      "['x', 'y', 'z', 'xx', 'yy', 'zz', 'xxx', 'yyy', 'zzz', 'xxxx', 'yyyy', 'zzzz']\n"
     ]
    }
   ],
   "source": [
    "print([i*n for n in range(1,5) for i in \"xyz\"])"
   ]
  },
  {
   "cell_type": "markdown",
   "metadata": {},
   "source": [
    "Below will generate the output - [[2], [3], [4], [3], [4], [5], [4], [5], [6]]"
   ]
  },
  {
   "cell_type": "code",
   "execution_count": 9,
   "metadata": {},
   "outputs": [
    {
     "name": "stdout",
     "output_type": "stream",
     "text": [
      "[[2], [3], [4], [3], [4], [5], [4], [5], [6]]\n"
     ]
    }
   ],
   "source": [
    "outer=[]\n",
    "for n in range(0,3):    \n",
    "    for m in range(2,5):\n",
    "        inner=[]\n",
    "        inner.append(m+n)\n",
    "        outer.append(inner)\n",
    "print(outer)"
   ]
  },
  {
   "cell_type": "code",
   "execution_count": 10,
   "metadata": {
    "scrolled": true
   },
   "outputs": [
    {
     "name": "stdout",
     "output_type": "stream",
     "text": [
      "[[2], [3], [4], [3], [4], [5], [4], [5], [6]]\n"
     ]
    }
   ],
   "source": [
    "print([[m+n] for n in range(0,3) for m in range(2,5)])"
   ]
  },
  {
   "cell_type": "markdown",
   "metadata": {},
   "source": [
    "Below will generate the output - [[2, 3, 4, 5], [3, 4, 5, 6], [4, 5, 6, 7], [5, 6, 7, 8]]"
   ]
  },
  {
   "cell_type": "code",
   "execution_count": 11,
   "metadata": {},
   "outputs": [
    {
     "name": "stdout",
     "output_type": "stream",
     "text": [
      "[[2, 3, 4, 5], [3, 4, 5, 6], [4, 5, 6, 7], [5, 6, 7, 8]]\n"
     ]
    }
   ],
   "source": [
    "outer=[]\n",
    "for m in range(0,4):\n",
    "    inner=[]\n",
    "    for n in range(2,6):\n",
    "        inner.append(n+m)\n",
    "    outer.append(inner)\n",
    "print(outer)"
   ]
  },
  {
   "cell_type": "code",
   "execution_count": 12,
   "metadata": {},
   "outputs": [
    {
     "name": "stdout",
     "output_type": "stream",
     "text": [
      "[[2, 3, 4, 5], [3, 4, 5, 6], [4, 5, 6, 7], [5, 6, 7, 8]]\n"
     ]
    }
   ],
   "source": [
    "print([[n+m for m in range(0,4)] for n in range(2,6)])"
   ]
  },
  {
   "cell_type": "markdown",
   "metadata": {},
   "source": [
    "Below will generate the output - [(1, 1), (2, 1), (3, 1), (1, 2), (2, 2), (3, 2), (1, 3), (2, 3), (3, 3)]"
   ]
  },
  {
   "cell_type": "code",
   "execution_count": 13,
   "metadata": {},
   "outputs": [
    {
     "name": "stdout",
     "output_type": "stream",
     "text": [
      "[(1, 1), (2, 1), (3, 1), (1, 2), (2, 2), (3, 2), (1, 3), (2, 3), (3, 3)]\n"
     ]
    }
   ],
   "source": [
    "print([(m,n) for n in range(1,4) for m in range(1,4)])"
   ]
  },
  {
   "cell_type": "markdown",
   "metadata": {},
   "source": [
    "<B>Implement a function longestWord() that takes a list of words and returns the longest one</B>"
   ]
  },
  {
   "cell_type": "code",
   "execution_count": 14,
   "metadata": {},
   "outputs": [
    {
     "name": "stdout",
     "output_type": "stream",
     "text": [
      "Please enter a few words:  Doing my DataScience Masters at ACADGILD\n",
      "The words in the list are: Doing my DataScience Masters at ACADGILD\n",
      "DataScience\n"
     ]
    }
   ],
   "source": [
    "def find_longest_word(word_list):\n",
    "    longest_word = ''\n",
    "    for word in word_list:\n",
    "        if len(word) > len(longest_word):\n",
    "            longest_word = word\n",
    "    print(longest_word)\n",
    "words = input('Please enter a few words:  ')  \n",
    "word_list = words.split() \n",
    "print('The words in the list are:',words)\n",
    "find_longest_word(word_list)"
   ]
  },
  {
   "cell_type": "code",
   "execution_count": 15,
   "metadata": {},
   "outputs": [
    {
     "name": "stdout",
     "output_type": "stream",
     "text": [
      "Please enter a few words:  Doing my DataScience Masters at ACADGILD\n",
      "The word in the list: ['Doing', 'my', 'DataScience', 'Masters', 'at', 'ACADGILD']\n",
      "DataScience\n"
     ]
    }
   ],
   "source": [
    "words = input('Please enter a few words:  ')\n",
    "words= words.split()\n",
    "print(\"The word in the list:\",words)\n",
    "listLen = []\n",
    "for i in words:\n",
    "    listLen.append(len(i))\n",
    "    #index=listLen.index(max(listLen))\n",
    "print(words[listLen.index(max(listLen))])"
   ]
  },
  {
   "cell_type": "code",
   "execution_count": 16,
   "metadata": {},
   "outputs": [
    {
     "name": "stdout",
     "output_type": "stream",
     "text": [
      "Please enter a few words:  Doing my DataScience Masters at ACADGILD\n",
      "['Doing', 'my', 'DataScience', 'Masters', 'at', 'ACADGILD']\n",
      "['DataScience']\n"
     ]
    }
   ],
   "source": [
    "word_f=0\n",
    "words = input('Please enter a few words:  ')\n",
    "words_l= words.split()\n",
    "print(words_l)\n",
    "word_f = max([len(word) for word in words_l])\n",
    "#word_f = [word for word in words_l]\n",
    "list_len=[word for word in words_l if len(word) == word_f]\n",
    "print(list_len)"
   ]
  },
  {
   "cell_type": "code",
   "execution_count": 18,
   "metadata": {},
   "outputs": [
    {
     "name": "stdout",
     "output_type": "stream",
     "text": [
      "['Doing', 'my', 'DataScience', 'Masters', 'at', 'ACADGILD']\n",
      "[5, 2, 11, 7, 2, 8]\n"
     ]
    }
   ],
   "source": [
    "sentence = 'Doing my DataScience Masters at ACADGILD'\n",
    "word = sentence.split()\n",
    "print(word) \n",
    "lengths = list(map(lambda word:len(word),word))\n",
    "print(lengths)"
   ]
  },
  {
   "cell_type": "code",
   "execution_count": null,
   "metadata": {},
   "outputs": [],
   "source": []
  }
 ],
 "metadata": {
  "kernelspec": {
   "display_name": "Python 3",
   "language": "python",
   "name": "python3"
  },
  "language_info": {
   "codemirror_mode": {
    "name": "ipython",
    "version": 3
   },
   "file_extension": ".py",
   "mimetype": "text/x-python",
   "name": "python",
   "nbconvert_exporter": "python",
   "pygments_lexer": "ipython3",
   "version": "3.6.5"
  }
 },
 "nbformat": 4,
 "nbformat_minor": 2
}
